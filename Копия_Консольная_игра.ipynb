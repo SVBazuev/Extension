{
  "nbformat": 4,
  "nbformat_minor": 0,
  "metadata": {
    "colab": {
      "provenance": [],
      "authorship_tag": "ABX9TyM6EDSQ7QtY5+MO6zjVZuZJ",
      "include_colab_link": true
    },
    "kernelspec": {
      "name": "python3",
      "display_name": "Python 3"
    },
    "language_info": {
      "name": "python"
    }
  },
  "cells": [
    {
      "cell_type": "markdown",
      "metadata": {
        "id": "view-in-github",
        "colab_type": "text"
      },
      "source": [
        "<a href=\"https://colab.research.google.com/github/SVBazuev/Extension/blob/main/%D0%9A%D0%BE%D0%BF%D0%B8%D1%8F_%D0%9A%D0%BE%D0%BD%D1%81%D0%BE%D0%BB%D1%8C%D0%BD%D0%B0%D1%8F_%D0%B8%D0%B3%D1%80%D0%B0.ipynb\" target=\"_parent\"><img src=\"https://colab.research.google.com/assets/colab-badge.svg\" alt=\"Open In Colab\"/></a>"
      ]
    },
    {
      "cell_type": "markdown",
      "source": [
        "# !pip install"
      ],
      "metadata": {
        "id": "4QerdICOVTf-"
      }
    },
    {
      "cell_type": "code",
      "source": [
        "\"\"\"\n",
        "В этом блоке прописывем команды\n",
        "для установки требуемых библиотек.\n",
        "\"\"\"\n",
        "###############################################################################\n",
        "# !pip install Any"
      ],
      "metadata": {
        "id": "zsX5X6soikMK"
      },
      "execution_count": null,
      "outputs": []
    },
    {
      "cell_type": "markdown",
      "source": [
        "# STD INPUT"
      ],
      "metadata": {
        "id": "2kUBFukOWZPZ"
      }
    },
    {
      "cell_type": "code",
      "source": [
        "\"\"\"\n",
        "В этом блоке прописываем сценарии\n",
        "загрузки арефактов, data/input\n",
        "и прочих пользовательских файлов.\n",
        "\"\"\"\n",
        "###############################################################################\n",
        "\n"
      ],
      "metadata": {
        "id": "aK4ebjfvW0g0"
      },
      "execution_count": null,
      "outputs": []
    },
    {
      "cell_type": "markdown",
      "source": [
        "# STD OUTPUT"
      ],
      "metadata": {
        "id": "JT5_LcEXZZLP"
      }
    },
    {
      "cell_type": "code",
      "source": [
        "\"\"\"\n",
        "В этом блоке прописываем сценарии\n",
        "выгрузки, пересылки и архивирования\n",
        "создаваемых в ходе выполнения скрипта\n",
        "файлов, т.к. они будут удалены одновременно\n",
        "с удалением виртуальной среды.\n",
        "\"\"\"\n",
        "###############################################################################\n",
        "\n"
      ],
      "metadata": {
        "id": "yGlq6t9xZmPp"
      },
      "execution_count": null,
      "outputs": []
    },
    {
      "cell_type": "markdown",
      "source": [
        "# utils.py"
      ],
      "metadata": {
        "id": "i84T4omVe-ZG"
      }
    },
    {
      "cell_type": "code",
      "source": [
        "\"\"\"\n",
        "\n",
        "\"\"\"\n",
        "###############################################################################\n",
        "\n"
      ],
      "metadata": {
        "id": "TCXeMPFNfT0O"
      },
      "execution_count": null,
      "outputs": []
    },
    {
      "cell_type": "markdown",
      "source": [
        "# helico.py"
      ],
      "metadata": {
        "id": "3g2hYjz3f9EU"
      }
    },
    {
      "cell_type": "code",
      "source": [
        "\"\"\"\n",
        "\n",
        "\"\"\"\n",
        "###############################################################################\n",
        "\n"
      ],
      "metadata": {
        "id": "l2PauQ9HgRyO"
      },
      "execution_count": null,
      "outputs": []
    },
    {
      "cell_type": "markdown",
      "source": [
        "# clouds.py"
      ],
      "metadata": {
        "id": "ILt_bqwXgeui"
      }
    },
    {
      "cell_type": "code",
      "source": [
        "\"\"\"\n",
        "\n",
        "\"\"\"\n",
        "###############################################################################\n",
        "\n"
      ],
      "metadata": {
        "id": "CDbI64ojgTw2"
      },
      "execution_count": null,
      "outputs": []
    },
    {
      "cell_type": "markdown",
      "source": [
        "# map.py"
      ],
      "metadata": {
        "id": "nEBAOL8hgr9j"
      }
    },
    {
      "cell_type": "code",
      "source": [
        "\"\"\"\n",
        "\n",
        "\"\"\"\n",
        "###############################################################################\n",
        "\n"
      ],
      "metadata": {
        "id": "x5oqVtkTgpjJ"
      },
      "execution_count": null,
      "outputs": []
    },
    {
      "cell_type": "markdown",
      "source": [
        "# main.py"
      ],
      "metadata": {
        "id": "Pptqs1WSg1Lh"
      }
    },
    {
      "cell_type": "code",
      "source": [
        "\"\"\"\n",
        "\n",
        "\"\"\"\n",
        "###############################################################################\n",
        "\n",
        "\n",
        "\n",
        "if __name__ == \"__main__\":\n",
        "    pass\n"
      ],
      "metadata": {
        "id": "X98y2qHmgqBz"
      },
      "execution_count": null,
      "outputs": []
    }
  ]
}