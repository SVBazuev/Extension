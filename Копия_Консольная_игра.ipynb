{
  "nbformat": 4,
  "nbformat_minor": 0,
  "metadata": {
    "colab": {
      "provenance": [],
      "toc_visible": true,
      "authorship_tag": "ABX9TyO8+RZCuD6RMvNmRi2qS350",
      "include_colab_link": true
    },
    "kernelspec": {
      "name": "python3",
      "display_name": "Python 3"
    },
    "language_info": {
      "name": "python"
    }
  },
  "cells": [
    {
      "cell_type": "markdown",
      "metadata": {
        "id": "view-in-github",
        "colab_type": "text"
      },
      "source": [
        "<a href=\"https://colab.research.google.com/github/SVBazuev/Extension/blob/main/%D0%9A%D0%BE%D0%BF%D0%B8%D1%8F_%D0%9A%D0%BE%D0%BD%D1%81%D0%BE%D0%BB%D1%8C%D0%BD%D0%B0%D1%8F_%D0%B8%D0%B3%D1%80%D0%B0.ipynb\" target=\"_parent\"><img src=\"https://colab.research.google.com/assets/colab-badge.svg\" alt=\"Open In Colab\"/></a>"
      ]
    },
    {
      "cell_type": "markdown",
      "source": [
        "# SETTINGS"
      ],
      "metadata": {
        "id": "v0E3o6P0n5PL"
      }
    },
    {
      "cell_type": "code",
      "source": [
        "# @title !pip install\n",
        "\"\"\"\n",
        "В этом блоке прописывем команды\n",
        "для установки требуемых библиотек.\n",
        "\"\"\"\n",
        "###############################################################################\n",
        "# !pip install Any"
      ],
      "metadata": {
        "id": "zsX5X6soikMK"
      },
      "execution_count": null,
      "outputs": []
    },
    {
      "cell_type": "code",
      "source": [
        "# @title import need for this\n",
        "###############################################################################\n",
        "\"\"\"\n",
        "Общий импорт на все блоки кода.\n",
        "\"\"\"\n",
        "\n",
        "import os\n",
        "import time\n",
        "import json\n",
        "from random import choice, randint, sample\n",
        "\n"
      ],
      "metadata": {
        "id": "F-zYo8h_wHnV"
      },
      "execution_count": null,
      "outputs": []
    },
    {
      "cell_type": "code",
      "source": [
        "# @title STD INPUT\n",
        "\"\"\"\n",
        "В этом блоке прописываем сценарии\n",
        "загрузки арефактов, data/input\n",
        "и прочих пользовательских файлов.\n",
        "\"\"\"\n",
        "###############################################################################\n",
        "\n"
      ],
      "metadata": {
        "id": "aK4ebjfvW0g0"
      },
      "execution_count": null,
      "outputs": []
    },
    {
      "cell_type": "code",
      "source": [
        "# @title STD OUTPUT\n",
        "\"\"\"\n",
        "В этом блоке прописываем сценарии\n",
        "выгрузки, пересылки и архивирования\n",
        "создаваемых в ходе выполнения скрипта\n",
        "файлов, т.к. они будут удалены одновременно\n",
        "с удалением виртуальной среды.\n",
        "\"\"\"\n",
        "###############################################################################\n",
        "\n"
      ],
      "metadata": {
        "id": "yGlq6t9xZmPp"
      },
      "execution_count": null,
      "outputs": []
    },
    {
      "cell_type": "markdown",
      "source": [
        "# ./MyGame\n",
        "\n",
        "**Вложеные блоки** представляют из себя прототипы файлов.py\n",
        "\n",
        "> Все необходимые импорты прописываются как коментарии. \\\n",
        "(для удобной записи кода ячеейк в файлы .py)\n",
        "\n",
        ">> Импорты стандартной и сторонних библиотек\n",
        "пописываются в блоке - **[import need for this](#scrollTo=import_need_for_this)**\n",
        "\n",
        "**Точка входа** - размещается в самом нижнем \\\n",
        "блоке кода - [**/main.py**](#scrollTo=_main_py)."
      ],
      "metadata": {
        "id": "ITIguXTZqOlW"
      }
    },
    {
      "cell_type": "code",
      "source": [
        "# @title /utils.py\n",
        "\"\"\"\n",
        "\n",
        "\"\"\"\n",
        "###############################################################################\n",
        "\n"
      ],
      "metadata": {
        "id": "TCXeMPFNfT0O"
      },
      "execution_count": null,
      "outputs": []
    },
    {
      "cell_type": "code",
      "source": [
        "# @title /helico.py\n",
        "\"\"\"\n",
        "\n",
        "\"\"\"\n",
        "###############################################################################\n",
        "\n"
      ],
      "metadata": {
        "id": "l2PauQ9HgRyO"
      },
      "execution_count": null,
      "outputs": []
    },
    {
      "cell_type": "code",
      "source": [
        "# @title /clouds.py\n",
        "\"\"\"\n",
        "\n",
        "\"\"\"\n",
        "###############################################################################\n",
        "\n"
      ],
      "metadata": {
        "id": "CDbI64ojgTw2"
      },
      "execution_count": null,
      "outputs": []
    },
    {
      "cell_type": "code",
      "source": [
        "# @title /map.py\n",
        "\"\"\"\n",
        "\n",
        "\"\"\"\n",
        "###############################################################################\n",
        "\n"
      ],
      "metadata": {
        "id": "x5oqVtkTgpjJ"
      },
      "execution_count": null,
      "outputs": []
    },
    {
      "cell_type": "code",
      "source": [
        "# @title /main.py\n",
        "\"\"\"\n",
        "\n",
        "\"\"\"\n",
        "###############################################################################\n",
        "# import os\n",
        "# import time\n",
        "# import json\n",
        "# from random import choice\n",
        "# from clouds import Clouds\n",
        "# from map import Map\n",
        "# from helicopter import Helicopter as Helico\n",
        "# from utils import *\n",
        "\n",
        "\n",
        "if __name__ == \"__main__\":\n",
        "    pass\n"
      ],
      "metadata": {
        "id": "X98y2qHmgqBz"
      },
      "execution_count": null,
      "outputs": []
    }
  ]
}